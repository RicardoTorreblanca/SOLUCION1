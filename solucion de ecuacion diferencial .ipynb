{
 "cells": [
  {
   "cell_type": "code",
   "execution_count": 23,
   "metadata": {},
   "outputs": [
    {
     "data": {
      "text/latex": [
       "$$\\left [ \\left \\{ C_{1} : - C_{2} e^{2 t \\sqrt{- \\frac{k}{m}}}\\right \\}\\right ]$$"
      ],
      "text/plain": [
       "⎡⎧                 _____⎫⎤\n",
       "⎢⎪                ╱ -k  ⎪⎥\n",
       "⎢⎨         2⋅t⋅  ╱  ─── ⎬⎥\n",
       "⎢⎪             ╲╱    m  ⎪⎥\n",
       "⎣⎩C₁: -C₂⋅ℯ             ⎭⎦"
      ]
     },
     "execution_count": 23,
     "metadata": {},
     "output_type": "execute_result"
    }
   ],
   "source": [
    "#Ecuaciones diferenciales con python.\n",
    "#Vivimos en un mundo constante cambio. La posicion de la tierra cambia con el tiempo; la velocidad de un objeto en caida libre cambia con la distancia;el area de un circulo cambia segun el tamaño de su radio\n",
    "#; la trayectoria de un proyectil cambia segun la velocidad y el angulo de disparo. Al intentar modelar matematicamente cualquiera de estos fenomenos, veremos que generalmente adoptan la forma de una o mas ecuaciones diferenciales.\n",
    "#las ecuaciones diferenciales se pueden diferenciar del orden en que se trate. y expresa la funcion en terminos de sus derivadas, ya sean parciales o totales, dependiendo del numero de variables que se tenga\n",
    "#las ecuaciones diferenciales pueden ser separables, lineales, parciales, \n",
    "\n",
    "import sympy\n",
    "from scipy import integrate\n",
    "sympy.init_printing(use_latex=\"mathjax\")\n",
    "#Resolviendo ecuacion diferencial\n",
    "#Defino las incognitas\n",
    "k= sympy.Symbol(\"k\")\n",
    "m= sympy.Symbol(\"m\")\n",
    "t= sympy.Symbol(\"t\")\n",
    "x= sympy.Function (\"x\")\n",
    "#Expreso la ecuacion\n",
    "f=-k*x(t)/m\n",
    "sympy.Eq((x(t)).diff(t,t),f)\n",
    "#Resolviendo la ecuacion\n",
    "ics = {x(0): 0}\n",
    "edo_sol=sympy.dsolve(x(t).diff(t,t)-f)\n",
    "C_eq = sympy.Eq(edo_sol.lhs.subs(t, 0).subs(ics), edo_sol.rhs.subs(x, 0))\n",
    "sympy.solve(C_eq)\n"
   ]
  },
  {
   "cell_type": "code",
   "execution_count": null,
   "metadata": {},
   "outputs": [],
   "source": []
  }
 ],
 "metadata": {
  "kernelspec": {
   "display_name": "Python 3",
   "language": "python",
   "name": "python3"
  },
  "language_info": {
   "codemirror_mode": {
    "name": "ipython",
    "version": 3
   },
   "file_extension": ".py",
   "mimetype": "text/x-python",
   "name": "python",
   "nbconvert_exporter": "python",
   "pygments_lexer": "ipython3",
   "version": "3.7.0"
  }
 },
 "nbformat": 4,
 "nbformat_minor": 2
}
